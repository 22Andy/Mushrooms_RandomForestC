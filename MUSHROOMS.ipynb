{
 "cells": [
  {
   "cell_type": "code",
   "execution_count": 1,
   "id": "1a599a3f",
   "metadata": {},
   "outputs": [],
   "source": [
    "import pandas as pd\n",
    "from sklearn.preprocessing import LabelEncoder\n",
    "import seaborn as sns\n",
    "from sklearn.model_selection import train_test_split\n",
    "import matplotlib.pyplot as plt"
   ]
  },
  {
   "cell_type": "code",
   "execution_count": 2,
   "id": "ab541ba6",
   "metadata": {},
   "outputs": [],
   "source": [
    "# Leemos los datos que se encuentran en un CSV\n",
    "datos = pd.read_csv('mushrooms.csv')"
   ]
  },
  {
   "cell_type": "markdown",
   "id": "53ec264b",
   "metadata": {},
   "source": [
    "# Verificar que no hayan datos faltantes "
   ]
  },
  {
   "cell_type": "code",
   "execution_count": 3,
   "id": "96ec79d5",
   "metadata": {},
   "outputs": [
    {
     "name": "stdout",
     "output_type": "stream",
     "text": [
      "class                       0\n",
      "cap-shape                   0\n",
      "cap-surface                 0\n",
      "cap-color                   0\n",
      "bruises                     0\n",
      "odor                        0\n",
      "gill-attachment             0\n",
      "gill-spacing                0\n",
      "gill-size                   0\n",
      "gill-color                  0\n",
      "stalk-shape                 0\n",
      "stalk-root                  0\n",
      "stalk-surface-above-ring    0\n",
      "stalk-surface-below-ring    0\n",
      "stalk-color-above-ring      0\n",
      "stalk-color-below-ring      0\n",
      "veil-type                   0\n",
      "veil-color                  0\n",
      "ring-number                 0\n",
      "ring-type                   0\n",
      "spore-print-color           0\n",
      "population                  0\n",
      "habitat                     0\n",
      "dtype: int64\n",
      "['p' 'e']\n",
      "(8124, 23)\n"
     ]
    }
   ],
   "source": [
    "# verificamos que en cada columna no haya datos faltantes\n",
    "print(datos.isnull().sum())\n",
    "# vemoslas etiquetas de las clases\n",
    "print(datos['class'].unique())\n",
    "# vemos el tamano de las caracteristicas mas las etiquetas\n",
    "print(datos.shape)"
   ]
  },
  {
   "cell_type": "markdown",
   "id": "5f57b0d1",
   "metadata": {},
   "source": [
    "# Para verificar que columnas son categóricas"
   ]
  },
  {
   "cell_type": "code",
   "execution_count": 4,
   "id": "a6227014",
   "metadata": {},
   "outputs": [
    {
     "name": "stdout",
     "output_type": "stream",
     "text": [
      "Categorical variables:\n",
      "['class', 'cap-shape', 'cap-surface', 'cap-color', 'bruises', 'odor', 'gill-attachment', 'gill-spacing', 'gill-size', 'gill-color', 'stalk-shape', 'stalk-root', 'stalk-surface-above-ring', 'stalk-surface-below-ring', 'stalk-color-above-ring', 'stalk-color-below-ring', 'veil-type', 'veil-color', 'ring-number', 'ring-type', 'spore-print-color', 'population', 'habitat']\n",
      "23\n"
     ]
    }
   ],
   "source": [
    "# verificamos que columnas son de tipo categoricos\n",
    "s = (datos.dtypes == 'object')\n",
    "object_cols = list(s[s].index)\n",
    "\n",
    "print(\"Categorical variables:\")\n",
    "print(object_cols)\n",
    "# vemos cuantas columnas son categoricas\n",
    "print(len(object_cols))"
   ]
  },
  {
   "cell_type": "code",
   "execution_count": 5,
   "id": "84f9ef3d",
   "metadata": {},
   "outputs": [
    {
     "data": {
      "text/html": [
       "<div>\n",
       "<style scoped>\n",
       "    .dataframe tbody tr th:only-of-type {\n",
       "        vertical-align: middle;\n",
       "    }\n",
       "\n",
       "    .dataframe tbody tr th {\n",
       "        vertical-align: top;\n",
       "    }\n",
       "\n",
       "    .dataframe thead th {\n",
       "        text-align: right;\n",
       "    }\n",
       "</style>\n",
       "<table border=\"1\" class=\"dataframe\">\n",
       "  <thead>\n",
       "    <tr style=\"text-align: right;\">\n",
       "      <th></th>\n",
       "      <th>class</th>\n",
       "      <th>cap-shape</th>\n",
       "      <th>cap-surface</th>\n",
       "      <th>cap-color</th>\n",
       "      <th>bruises</th>\n",
       "      <th>odor</th>\n",
       "      <th>gill-attachment</th>\n",
       "      <th>gill-spacing</th>\n",
       "      <th>gill-size</th>\n",
       "      <th>gill-color</th>\n",
       "      <th>...</th>\n",
       "      <th>stalk-surface-below-ring</th>\n",
       "      <th>stalk-color-above-ring</th>\n",
       "      <th>stalk-color-below-ring</th>\n",
       "      <th>veil-type</th>\n",
       "      <th>veil-color</th>\n",
       "      <th>ring-number</th>\n",
       "      <th>ring-type</th>\n",
       "      <th>spore-print-color</th>\n",
       "      <th>population</th>\n",
       "      <th>habitat</th>\n",
       "    </tr>\n",
       "  </thead>\n",
       "  <tbody>\n",
       "    <tr>\n",
       "      <th>0</th>\n",
       "      <td>p</td>\n",
       "      <td>x</td>\n",
       "      <td>s</td>\n",
       "      <td>n</td>\n",
       "      <td>t</td>\n",
       "      <td>p</td>\n",
       "      <td>f</td>\n",
       "      <td>c</td>\n",
       "      <td>n</td>\n",
       "      <td>k</td>\n",
       "      <td>...</td>\n",
       "      <td>s</td>\n",
       "      <td>w</td>\n",
       "      <td>w</td>\n",
       "      <td>p</td>\n",
       "      <td>w</td>\n",
       "      <td>o</td>\n",
       "      <td>p</td>\n",
       "      <td>k</td>\n",
       "      <td>s</td>\n",
       "      <td>u</td>\n",
       "    </tr>\n",
       "    <tr>\n",
       "      <th>1</th>\n",
       "      <td>e</td>\n",
       "      <td>x</td>\n",
       "      <td>s</td>\n",
       "      <td>y</td>\n",
       "      <td>t</td>\n",
       "      <td>a</td>\n",
       "      <td>f</td>\n",
       "      <td>c</td>\n",
       "      <td>b</td>\n",
       "      <td>k</td>\n",
       "      <td>...</td>\n",
       "      <td>s</td>\n",
       "      <td>w</td>\n",
       "      <td>w</td>\n",
       "      <td>p</td>\n",
       "      <td>w</td>\n",
       "      <td>o</td>\n",
       "      <td>p</td>\n",
       "      <td>n</td>\n",
       "      <td>n</td>\n",
       "      <td>g</td>\n",
       "    </tr>\n",
       "    <tr>\n",
       "      <th>2</th>\n",
       "      <td>e</td>\n",
       "      <td>b</td>\n",
       "      <td>s</td>\n",
       "      <td>w</td>\n",
       "      <td>t</td>\n",
       "      <td>l</td>\n",
       "      <td>f</td>\n",
       "      <td>c</td>\n",
       "      <td>b</td>\n",
       "      <td>n</td>\n",
       "      <td>...</td>\n",
       "      <td>s</td>\n",
       "      <td>w</td>\n",
       "      <td>w</td>\n",
       "      <td>p</td>\n",
       "      <td>w</td>\n",
       "      <td>o</td>\n",
       "      <td>p</td>\n",
       "      <td>n</td>\n",
       "      <td>n</td>\n",
       "      <td>m</td>\n",
       "    </tr>\n",
       "    <tr>\n",
       "      <th>3</th>\n",
       "      <td>p</td>\n",
       "      <td>x</td>\n",
       "      <td>y</td>\n",
       "      <td>w</td>\n",
       "      <td>t</td>\n",
       "      <td>p</td>\n",
       "      <td>f</td>\n",
       "      <td>c</td>\n",
       "      <td>n</td>\n",
       "      <td>n</td>\n",
       "      <td>...</td>\n",
       "      <td>s</td>\n",
       "      <td>w</td>\n",
       "      <td>w</td>\n",
       "      <td>p</td>\n",
       "      <td>w</td>\n",
       "      <td>o</td>\n",
       "      <td>p</td>\n",
       "      <td>k</td>\n",
       "      <td>s</td>\n",
       "      <td>u</td>\n",
       "    </tr>\n",
       "    <tr>\n",
       "      <th>4</th>\n",
       "      <td>e</td>\n",
       "      <td>x</td>\n",
       "      <td>s</td>\n",
       "      <td>g</td>\n",
       "      <td>f</td>\n",
       "      <td>n</td>\n",
       "      <td>f</td>\n",
       "      <td>w</td>\n",
       "      <td>b</td>\n",
       "      <td>k</td>\n",
       "      <td>...</td>\n",
       "      <td>s</td>\n",
       "      <td>w</td>\n",
       "      <td>w</td>\n",
       "      <td>p</td>\n",
       "      <td>w</td>\n",
       "      <td>o</td>\n",
       "      <td>e</td>\n",
       "      <td>n</td>\n",
       "      <td>a</td>\n",
       "      <td>g</td>\n",
       "    </tr>\n",
       "  </tbody>\n",
       "</table>\n",
       "<p>5 rows × 23 columns</p>\n",
       "</div>"
      ],
      "text/plain": [
       "  class cap-shape cap-surface cap-color bruises odor gill-attachment  \\\n",
       "0     p         x           s         n       t    p               f   \n",
       "1     e         x           s         y       t    a               f   \n",
       "2     e         b           s         w       t    l               f   \n",
       "3     p         x           y         w       t    p               f   \n",
       "4     e         x           s         g       f    n               f   \n",
       "\n",
       "  gill-spacing gill-size gill-color  ... stalk-surface-below-ring  \\\n",
       "0            c         n          k  ...                        s   \n",
       "1            c         b          k  ...                        s   \n",
       "2            c         b          n  ...                        s   \n",
       "3            c         n          n  ...                        s   \n",
       "4            w         b          k  ...                        s   \n",
       "\n",
       "  stalk-color-above-ring stalk-color-below-ring veil-type veil-color  \\\n",
       "0                      w                      w         p          w   \n",
       "1                      w                      w         p          w   \n",
       "2                      w                      w         p          w   \n",
       "3                      w                      w         p          w   \n",
       "4                      w                      w         p          w   \n",
       "\n",
       "  ring-number ring-type spore-print-color population habitat  \n",
       "0           o         p                 k          s       u  \n",
       "1           o         p                 n          n       g  \n",
       "2           o         p                 n          n       m  \n",
       "3           o         p                 k          s       u  \n",
       "4           o         e                 n          a       g  \n",
       "\n",
       "[5 rows x 23 columns]"
      ]
     },
     "execution_count": 5,
     "metadata": {},
     "output_type": "execute_result"
    }
   ],
   "source": [
    "# observamos las primeras filas del dataframe\n",
    "datos.head()"
   ]
  },
  {
   "cell_type": "markdown",
   "id": "21b59281",
   "metadata": {},
   "source": [
    "# Convertimos los datos categóricos a numéricos"
   ]
  },
  {
   "cell_type": "code",
   "execution_count": 6,
   "id": "3d1c3c8e",
   "metadata": {},
   "outputs": [
    {
     "data": {
      "text/html": [
       "<div>\n",
       "<style scoped>\n",
       "    .dataframe tbody tr th:only-of-type {\n",
       "        vertical-align: middle;\n",
       "    }\n",
       "\n",
       "    .dataframe tbody tr th {\n",
       "        vertical-align: top;\n",
       "    }\n",
       "\n",
       "    .dataframe thead th {\n",
       "        text-align: right;\n",
       "    }\n",
       "</style>\n",
       "<table border=\"1\" class=\"dataframe\">\n",
       "  <thead>\n",
       "    <tr style=\"text-align: right;\">\n",
       "      <th></th>\n",
       "      <th>class</th>\n",
       "      <th>cap-shape</th>\n",
       "      <th>cap-surface</th>\n",
       "      <th>cap-color</th>\n",
       "      <th>bruises</th>\n",
       "      <th>odor</th>\n",
       "      <th>gill-attachment</th>\n",
       "      <th>gill-spacing</th>\n",
       "      <th>gill-size</th>\n",
       "      <th>gill-color</th>\n",
       "      <th>...</th>\n",
       "      <th>stalk-surface-below-ring</th>\n",
       "      <th>stalk-color-above-ring</th>\n",
       "      <th>stalk-color-below-ring</th>\n",
       "      <th>veil-type</th>\n",
       "      <th>veil-color</th>\n",
       "      <th>ring-number</th>\n",
       "      <th>ring-type</th>\n",
       "      <th>spore-print-color</th>\n",
       "      <th>population</th>\n",
       "      <th>habitat</th>\n",
       "    </tr>\n",
       "  </thead>\n",
       "  <tbody>\n",
       "    <tr>\n",
       "      <th>0</th>\n",
       "      <td>1</td>\n",
       "      <td>5</td>\n",
       "      <td>2</td>\n",
       "      <td>4</td>\n",
       "      <td>1</td>\n",
       "      <td>6</td>\n",
       "      <td>1</td>\n",
       "      <td>0</td>\n",
       "      <td>1</td>\n",
       "      <td>4</td>\n",
       "      <td>...</td>\n",
       "      <td>2</td>\n",
       "      <td>7</td>\n",
       "      <td>7</td>\n",
       "      <td>0</td>\n",
       "      <td>2</td>\n",
       "      <td>1</td>\n",
       "      <td>4</td>\n",
       "      <td>2</td>\n",
       "      <td>3</td>\n",
       "      <td>5</td>\n",
       "    </tr>\n",
       "    <tr>\n",
       "      <th>1</th>\n",
       "      <td>0</td>\n",
       "      <td>5</td>\n",
       "      <td>2</td>\n",
       "      <td>9</td>\n",
       "      <td>1</td>\n",
       "      <td>0</td>\n",
       "      <td>1</td>\n",
       "      <td>0</td>\n",
       "      <td>0</td>\n",
       "      <td>4</td>\n",
       "      <td>...</td>\n",
       "      <td>2</td>\n",
       "      <td>7</td>\n",
       "      <td>7</td>\n",
       "      <td>0</td>\n",
       "      <td>2</td>\n",
       "      <td>1</td>\n",
       "      <td>4</td>\n",
       "      <td>3</td>\n",
       "      <td>2</td>\n",
       "      <td>1</td>\n",
       "    </tr>\n",
       "    <tr>\n",
       "      <th>2</th>\n",
       "      <td>0</td>\n",
       "      <td>0</td>\n",
       "      <td>2</td>\n",
       "      <td>8</td>\n",
       "      <td>1</td>\n",
       "      <td>3</td>\n",
       "      <td>1</td>\n",
       "      <td>0</td>\n",
       "      <td>0</td>\n",
       "      <td>5</td>\n",
       "      <td>...</td>\n",
       "      <td>2</td>\n",
       "      <td>7</td>\n",
       "      <td>7</td>\n",
       "      <td>0</td>\n",
       "      <td>2</td>\n",
       "      <td>1</td>\n",
       "      <td>4</td>\n",
       "      <td>3</td>\n",
       "      <td>2</td>\n",
       "      <td>3</td>\n",
       "    </tr>\n",
       "    <tr>\n",
       "      <th>3</th>\n",
       "      <td>1</td>\n",
       "      <td>5</td>\n",
       "      <td>3</td>\n",
       "      <td>8</td>\n",
       "      <td>1</td>\n",
       "      <td>6</td>\n",
       "      <td>1</td>\n",
       "      <td>0</td>\n",
       "      <td>1</td>\n",
       "      <td>5</td>\n",
       "      <td>...</td>\n",
       "      <td>2</td>\n",
       "      <td>7</td>\n",
       "      <td>7</td>\n",
       "      <td>0</td>\n",
       "      <td>2</td>\n",
       "      <td>1</td>\n",
       "      <td>4</td>\n",
       "      <td>2</td>\n",
       "      <td>3</td>\n",
       "      <td>5</td>\n",
       "    </tr>\n",
       "    <tr>\n",
       "      <th>4</th>\n",
       "      <td>0</td>\n",
       "      <td>5</td>\n",
       "      <td>2</td>\n",
       "      <td>3</td>\n",
       "      <td>0</td>\n",
       "      <td>5</td>\n",
       "      <td>1</td>\n",
       "      <td>1</td>\n",
       "      <td>0</td>\n",
       "      <td>4</td>\n",
       "      <td>...</td>\n",
       "      <td>2</td>\n",
       "      <td>7</td>\n",
       "      <td>7</td>\n",
       "      <td>0</td>\n",
       "      <td>2</td>\n",
       "      <td>1</td>\n",
       "      <td>0</td>\n",
       "      <td>3</td>\n",
       "      <td>0</td>\n",
       "      <td>1</td>\n",
       "    </tr>\n",
       "  </tbody>\n",
       "</table>\n",
       "<p>5 rows × 23 columns</p>\n",
       "</div>"
      ],
      "text/plain": [
       "   class  cap-shape  cap-surface  cap-color  bruises  odor  gill-attachment  \\\n",
       "0      1          5            2          4        1     6                1   \n",
       "1      0          5            2          9        1     0                1   \n",
       "2      0          0            2          8        1     3                1   \n",
       "3      1          5            3          8        1     6                1   \n",
       "4      0          5            2          3        0     5                1   \n",
       "\n",
       "   gill-spacing  gill-size  gill-color  ...  stalk-surface-below-ring  \\\n",
       "0             0          1           4  ...                         2   \n",
       "1             0          0           4  ...                         2   \n",
       "2             0          0           5  ...                         2   \n",
       "3             0          1           5  ...                         2   \n",
       "4             1          0           4  ...                         2   \n",
       "\n",
       "   stalk-color-above-ring  stalk-color-below-ring  veil-type  veil-color  \\\n",
       "0                       7                       7          0           2   \n",
       "1                       7                       7          0           2   \n",
       "2                       7                       7          0           2   \n",
       "3                       7                       7          0           2   \n",
       "4                       7                       7          0           2   \n",
       "\n",
       "   ring-number  ring-type  spore-print-color  population  habitat  \n",
       "0            1          4                  2           3        5  \n",
       "1            1          4                  3           2        1  \n",
       "2            1          4                  3           2        3  \n",
       "3            1          4                  2           3        5  \n",
       "4            1          0                  3           0        1  \n",
       "\n",
       "[5 rows x 23 columns]"
      ]
     },
     "execution_count": 6,
     "metadata": {},
     "output_type": "execute_result"
    }
   ],
   "source": [
    "# convertimos cada una de las columnas en numericas con el metodo ordinario\n",
    "datos1 = datos.copy()\n",
    "for col in datos.columns:\n",
    "    datos1[col] = LabelEncoder().fit_transform(datos[col])\n",
    "datos1.head()"
   ]
  },
  {
   "cell_type": "code",
   "execution_count": 7,
   "id": "7932040a",
   "metadata": {},
   "outputs": [
    {
     "data": {
      "text/plain": [
       "Text(0.5, 1.0, 'class')"
      ]
     },
     "execution_count": 7,
     "metadata": {},
     "output_type": "execute_result"
    },
    {
     "data": {
      "image/png": "[encoded data removed]",
      "text/plain": [
       "<Figure size 1296x576 with 1 Axes>"
      ]
     },
     "metadata": {},
     "output_type": "display_data"
    }
   ],
   "source": [
    "# visualizamos que el conjunto de las etiquetas se encuentre \"balanceado\"\n",
    "plt.figure(figsize=(18,8))\n",
    "\n",
    "datos1['class'].value_counts().plot.pie(explode=[0,0],autopct='%1.1f%%',shadow=True)\n",
    "plt.title('class')"
   ]
  },
  {
   "cell_type": "code",
   "execution_count": 8,
   "id": "9e0b37fb",
   "metadata": {},
   "outputs": [],
   "source": [
    "#dividimos las caracteristicas de las etiquetas\n",
    "X = datos1.drop(['class'], axis = 1)\n",
    "y = datos1['class']"
   ]
  },
  {
   "cell_type": "code",
   "execution_count": 9,
   "id": "9271b193",
   "metadata": {},
   "outputs": [
    {
     "data": {
      "text/plain": [
       "VarianceThreshold(threshold=0)"
      ]
     },
     "execution_count": 9,
     "metadata": {},
     "output_type": "execute_result"
    }
   ],
   "source": [
    "# verificamos que columna de las caracteristicas no son informativas, ya que tienen arianza cero\n",
    "from sklearn.feature_selection import VarianceThreshold\n",
    "sel = VarianceThreshold(threshold=0)\n",
    "sel.fit(X)  # fit finds the features with zero variance"
   ]
  },
  {
   "cell_type": "code",
   "execution_count": 10,
   "id": "3de58bc5",
   "metadata": {},
   "outputs": [
    {
     "name": "stdout",
     "output_type": "stream",
     "text": [
      "1\n"
     ]
    },
    {
     "data": {
      "text/plain": [
       "['veil-type']"
      ]
     },
     "execution_count": 10,
     "metadata": {},
     "output_type": "execute_result"
    }
   ],
   "source": [
    "# imprimimos las caracteristicas con varianza igual a cero\n",
    "print(\n",
    "    len([\n",
    "        x for x in X.columns\n",
    "        if x not in X.columns[sel.get_support()]\n",
    "    ]))\n",
    "\n",
    "[x for x in X.columns if x not in X.columns[sel.get_support()]]"
   ]
  },
  {
   "cell_type": "code",
   "execution_count": 11,
   "id": "9e5d56b6",
   "metadata": {},
   "outputs": [
    {
     "data": {
      "text/plain": [
       "21"
      ]
     },
     "execution_count": 11,
     "metadata": {},
     "output_type": "execute_result"
    }
   ],
   "source": [
    "# Verificamos cuantas caracteristicas tienen varianza distinta de cero\n",
    "sum(sel.get_support())"
   ]
  },
  {
   "cell_type": "code",
   "execution_count": 12,
   "id": "92237c21",
   "metadata": {},
   "outputs": [],
   "source": [
    "# eliminamos la columna de caracteristicas que no es informativa\n",
    "X = X.drop(['veil-type'], axis=1)\n",
    "X1= X.copy()"
   ]
  },
  {
   "cell_type": "code",
   "execution_count": 13,
   "id": "e507a0b4",
   "metadata": {},
   "outputs": [],
   "source": [
    "#estandarizamos las caracteristicas\n",
    "from sklearn.preprocessing import StandardScaler\n",
    "scaler = StandardScaler()\n",
    "X=scaler.fit_transform(X)"
   ]
  },
  {
   "cell_type": "code",
   "execution_count": 35,
   "id": "f2178534",
   "metadata": {},
   "outputs": [],
   "source": [
    "#guardamos los parametros que realizan la estandarizacion\n",
    "import numpy as np\n",
    "np.save('mean',scaler.mean_)\n",
    "np.save('std',scaler.scale_)"
   ]
  },
  {
   "cell_type": "code",
   "execution_count": 36,
   "id": "1ed94227",
   "metadata": {},
   "outputs": [],
   "source": [
    "# dividimos los conjuntos de entrenamiento y prueba\n",
    "X_train, X_test, y_train, y_test = train_test_split(X,y,test_size=0.4,random_state=0)"
   ]
  },
  {
   "cell_type": "code",
   "execution_count": 37,
   "id": "9f3e36a0",
   "metadata": {},
   "outputs": [
    {
     "name": "stdout",
     "output_type": "stream",
     "text": [
      "(array([0, 1]), array([2509, 2365]))\n",
      "(array([0, 1]), array([1699, 1551]))\n"
     ]
    }
   ],
   "source": [
    "# verificamos que las divion de datos tengan clases balanceadas\n",
    "import numpy as np\n",
    "print(np.unique(y_train,return_counts=True))\n",
    "print(np.unique(y_test,return_counts=True))"
   ]
  },
  {
   "cell_type": "code",
   "execution_count": 38,
   "id": "8b18339a",
   "metadata": {},
   "outputs": [
    {
     "name": "stdout",
     "output_type": "stream",
     "text": [
      "(4874, 21) (3250, 21) (4874,) (3250,)\n"
     ]
    }
   ],
   "source": [
    "print(X_train.shape,X_test.shape,y_train.shape, y_test.shape)"
   ]
  },
  {
   "cell_type": "code",
   "execution_count": 39,
   "id": "4b05a10d",
   "metadata": {},
   "outputs": [
    {
     "name": "stdout",
     "output_type": "stream",
     "text": [
      "Model accuracy score with all features : 1.0000\n"
     ]
    }
   ],
   "source": [
    "# instanciamos el modelo de RandomForest para clasificacion\n",
    "from sklearn.ensemble import RandomForestClassifier\n",
    "from sklearn.metrics import accuracy_score,confusion_matrix \n",
    "\n",
    "\n",
    "clf = RandomForestClassifier(n_estimators=90, random_state=0)\n",
    "clf.fit(X_train, y_train)\n",
    "y_pred = clf.predict(X_test)\n",
    "print('Model accuracy score with all features : {0:0.4f}'. format(accuracy_score(y_test, y_pred)))\n"
   ]
  },
  {
   "cell_type": "code",
   "execution_count": 40,
   "id": "f397e9a0",
   "metadata": {},
   "outputs": [],
   "source": [
    "# guardamos el modelo a un pickle\n",
    "import pickle\n",
    "with open('RandomF_hongos.pickle', 'wb') as f:\n",
    "    # Pickle the 'data' dictionary using the highest protocol available.\n",
    "    pickle.dump(clf, f, pickle.HIGHEST_PROTOCOL)"
   ]
  },
  {
   "cell_type": "code",
   "execution_count": 41,
   "id": "9595806c",
   "metadata": {},
   "outputs": [
    {
     "name": "stdout",
     "output_type": "stream",
     "text": [
      "0.9993839835728953\n",
      "{'n_estimators': 40, 'min_samples_leaf': 10, 'max_features': 'log2'}\n"
     ]
    }
   ],
   "source": [
    "# esto nos sirve para hacer grid de distints parametros de RandomForestClassifier\n",
    "# y encontrar la mejor combinacion\n",
    "model_RR=RandomForestClassifier()\n",
    "tuned_parameters = {'min_samples_leaf': range(10,100,10), 'n_estimators' : range(10,100,10),\n",
    "                    'max_features':['auto','sqrt','log2']\n",
    "                    }\n",
    "from sklearn.model_selection import RandomizedSearchCV\n",
    "RR_model= RandomizedSearchCV(model_RR, tuned_parameters,cv=10,scoring='accuracy',n_iter=20,n_jobs= -1)\n",
    "RR_model.fit(X_train,y_train)\n",
    "print(RR_model.best_score_)\n",
    "print(RR_model.best_params_)\n",
    "\n"
   ]
  },
  {
   "cell_type": "code",
   "execution_count": 42,
   "id": "695ec6f2",
   "metadata": {},
   "outputs": [
    {
     "name": "stdout",
     "output_type": "stream",
     "text": [
      "[[1699    0]\n",
      " [   0 1551]]\n"
     ]
    },
    {
     "data": {
      "image/png": "[encoded data removed]",
      "text/plain": [
       "<Figure size 576x432 with 2 Axes>"
      ]
     },
     "metadata": {
      "needs_background": "light"
     },
     "output_type": "display_data"
    }
   ],
   "source": [
    "# evaluamos el modelo ya entrenado\n",
    "import matplotlib.pyplot as plt\n",
    "c_matrix=confusion_matrix(y_test,y_pred)\n",
    "print(c_matrix)\n",
    "\n",
    "# graficamos la matriz de confusion\n",
    "plt.figure(figsize=(8,6))\n",
    "plt.title('Confusion Matrix')\n",
    "a = sns.heatmap(c_matrix, square=True, annot=True, fmt='.2f', linecolor='black')\n",
    "a.set_xticklabels(a.get_xticklabels(), rotation=30)\n",
    "a.set_yticklabels(a.get_yticklabels(), rotation=30)           \n",
    "plt.show() "
   ]
  },
  {
   "cell_type": "markdown",
   "id": "daf79776",
   "metadata": {},
   "source": [
    "# Seleccion de caracteristicas"
   ]
  },
  {
   "cell_type": "code",
   "execution_count": 43,
   "id": "2c3738d6",
   "metadata": {},
   "outputs": [],
   "source": [
    "# si tuvieramos un problema con muchas caracteristicas, randomforest tambien nos sirve para elegir cuales son las \n",
    "# caracteristicas mas importantes\n",
    "feature_scores = pd.Series(clf.feature_importances_, index=X1.columns).sort_values(ascending=False)"
   ]
  },
  {
   "cell_type": "code",
   "execution_count": 44,
   "id": "d730cf9f",
   "metadata": {},
   "outputs": [
    {
     "data": {
      "text/plain": [
       "<AxesSubplot:title={'center':'Importancia de características'}>"
      ]
     },
     "execution_count": 44,
     "metadata": {},
     "output_type": "execute_result"
    },
    {
     "data": {
      "image/png": "[encoded data removed]",
      "text/plain": [
       "<Figure size 800x640 with 1 Axes>"
      ]
     },
     "metadata": {},
     "output_type": "display_data"
    }
   ],
   "source": [
    "\n",
    "plt.figure(num=None, figsize=(10,8), dpi=80, facecolor='w', edgecolor='k')\n",
    "plt.title('Importancia de características')\n",
    "\n",
    "feat_importances = pd.Series(clf.feature_importances_, index= X1.columns)\n",
    "\n",
    "feat_importances.nlargest(21).plot(kind='barh')\n"
   ]
  },
  {
   "cell_type": "markdown",
   "id": "ec7c765c",
   "metadata": {},
   "source": [
    "#  Red Neuronal"
   ]
  },
  {
   "cell_type": "code",
   "execution_count": 45,
   "id": "9c206abc",
   "metadata": {},
   "outputs": [],
   "source": [
    "from sklearn.neural_network import MLPClassifier\n",
    "\n"
   ]
  },
  {
   "cell_type": "code",
   "execution_count": 46,
   "id": "47631546",
   "metadata": {},
   "outputs": [
    {
     "data": {
      "text/plain": [
       "MLPClassifier()"
      ]
     },
     "execution_count": 46,
     "metadata": {},
     "output_type": "execute_result"
    }
   ],
   "source": [
    "mlp = MLPClassifier()\n",
    "mlp.fit(X_train,y_train)"
   ]
  },
  {
   "cell_type": "code",
   "execution_count": 47,
   "id": "505d60f3",
   "metadata": {},
   "outputs": [
    {
     "data": {
      "text/plain": [
       "1.0"
      ]
     },
     "execution_count": 47,
     "metadata": {},
     "output_type": "execute_result"
    }
   ],
   "source": [
    "y_prob = mlp.predict_proba(X_test)[:,1] # This will give you positive class prediction probabilities  \n",
    "y_pred = np.where(y_prob > 0.5, 1, 0) # This will threshold the probabilities to give class predictions.\n",
    "mlp.score(X_test, y_pred)"
   ]
  },
  {
   "cell_type": "code",
   "execution_count": 48,
   "id": "72b954f9",
   "metadata": {},
   "outputs": [
    {
     "data": {
      "text/plain": [
       "array([[1699,    0],\n",
       "       [   0, 1551]])"
      ]
     },
     "execution_count": 48,
     "metadata": {},
     "output_type": "execute_result"
    }
   ],
   "source": [
    "c_matrix=confusion_matrix(y_test,y_pred)\n",
    "c_matrix\n"
   ]
  },
  {
   "cell_type": "code",
   "execution_count": 49,
   "id": "a7204d7e",
   "metadata": {},
   "outputs": [
    {
     "data": {
      "text/plain": [
       "(4874, 21)"
      ]
     },
     "execution_count": 49,
     "metadata": {},
     "output_type": "execute_result"
    }
   ],
   "source": [
    "X_train.shape"
   ]
  },
  {
   "cell_type": "markdown",
   "id": "85cd0dd4",
   "metadata": {},
   "source": [
    "# Red Densa tensorflow/keras "
   ]
  },
  {
   "cell_type": "code",
   "execution_count": 50,
   "id": "8b8eb679",
   "metadata": {},
   "outputs": [],
   "source": [
    "from tensorflow.keras.utils import to_categorical\n",
    "y_train = to_categorical(y_train)\n",
    "y_test = to_categorical(y_test)"
   ]
  },
  {
   "cell_type": "code",
   "execution_count": 51,
   "id": "37b907dc",
   "metadata": {
    "scrolled": true
   },
   "outputs": [
    {
     "name": "stderr",
     "output_type": "stream",
     "text": [
      "2022-09-10 10:24:42.327553: I tensorflow/core/platform/cpu_feature_guard.cc:142] This TensorFlow binary is optimized with oneAPI Deep Neural Network Library (oneDNN) to use the following CPU instructions in performance-critical operations:  AVX2 FMA\n",
      "To enable them in other operations, rebuild TensorFlow with the appropriate compiler flags.\n",
      "2022-09-10 10:24:42.417580: I tensorflow/compiler/mlir/mlir_graph_optimization_pass.cc:185] None of the MLIR Optimization Passes are enabled (registered 2)\n"
     ]
    },
    {
     "name": "stdout",
     "output_type": "stream",
     "text": [
      "Epoch 1/50\n",
      "39/39 [==============================] - 1s 1ms/step - loss: 0.6883 - accuracy: 0.6321\n",
      "Epoch 2/50\n",
      "39/39 [==============================] - 0s 982us/step - loss: 0.4909 - accuracy: 0.8687\n",
      "Epoch 3/50\n",
      "39/39 [==============================] - 0s 977us/step - loss: 0.3143 - accuracy: 0.9046\n",
      "Epoch 4/50\n",
      "39/39 [==============================] - 0s 1ms/step - loss: 0.2070 - accuracy: 0.9185\n",
      "Epoch 5/50\n",
      "39/39 [==============================] - 0s 1ms/step - loss: 0.1548 - accuracy: 0.9350\n",
      "Epoch 6/50\n",
      "39/39 [==============================] - 0s 1ms/step - loss: 0.1219 - accuracy: 0.9565\n",
      "Epoch 7/50\n",
      "39/39 [==============================] - 0s 1ms/step - loss: 0.0966 - accuracy: 0.9758\n",
      "Epoch 8/50\n",
      "39/39 [==============================] - 0s 1ms/step - loss: 0.0759 - accuracy: 0.9801\n",
      "Epoch 9/50\n",
      "39/39 [==============================] - 0s 951us/step - loss: 0.0591 - accuracy: 0.9838\n",
      "Epoch 10/50\n",
      "39/39 [==============================] - 0s 944us/step - loss: 0.0460 - accuracy: 0.9879\n",
      "Epoch 11/50\n",
      "39/39 [==============================] - 0s 913us/step - loss: 0.0364 - accuracy: 0.9908\n",
      "Epoch 12/50\n",
      "39/39 [==============================] - 0s 1ms/step - loss: 0.0292 - accuracy: 0.9920\n",
      "Epoch 13/50\n",
      "39/39 [==============================] - 0s 1ms/step - loss: 0.0235 - accuracy: 0.9938\n",
      "Epoch 14/50\n",
      "39/39 [==============================] - 0s 2ms/step - loss: 0.0189 - accuracy: 0.9961\n",
      "Epoch 15/50\n",
      "39/39 [==============================] - 0s 971us/step - loss: 0.0153 - accuracy: 0.9967\n",
      "Epoch 16/50\n",
      "39/39 [==============================] - 0s 984us/step - loss: 0.0122 - accuracy: 0.9979\n",
      "Epoch 17/50\n",
      "39/39 [==============================] - 0s 941us/step - loss: 0.0099 - accuracy: 0.9998\n",
      "Epoch 18/50\n",
      "39/39 [==============================] - 0s 939us/step - loss: 0.0080 - accuracy: 1.0000\n",
      "Epoch 19/50\n",
      "39/39 [==============================] - 0s 1ms/step - loss: 0.0067 - accuracy: 1.0000\n",
      "Epoch 20/50\n",
      "39/39 [==============================] - 0s 947us/step - loss: 0.0056 - accuracy: 1.0000\n",
      "Epoch 21/50\n",
      "39/39 [==============================] - 0s 1ms/step - loss: 0.0048 - accuracy: 1.0000\n",
      "Epoch 22/50\n",
      "39/39 [==============================] - 0s 1ms/step - loss: 0.0041 - accuracy: 1.0000\n",
      "Epoch 23/50\n",
      "39/39 [==============================] - 0s 989us/step - loss: 0.0036 - accuracy: 1.0000\n",
      "Epoch 24/50\n",
      "39/39 [==============================] - 0s 1ms/step - loss: 0.0031 - accuracy: 1.0000\n",
      "Epoch 25/50\n",
      "39/39 [==============================] - 0s 934us/step - loss: 0.0028 - accuracy: 1.0000\n",
      "Epoch 26/50\n",
      "39/39 [==============================] - 0s 1ms/step - loss: 0.0025 - accuracy: 1.0000\n",
      "Epoch 27/50\n",
      "39/39 [==============================] - 0s 968us/step - loss: 0.0022 - accuracy: 1.0000\n",
      "Epoch 28/50\n",
      "39/39 [==============================] - 0s 990us/step - loss: 0.0019 - accuracy: 1.0000\n",
      "Epoch 29/50\n",
      "39/39 [==============================] - 0s 1ms/step - loss: 0.0018 - accuracy: 1.0000\n",
      "Epoch 30/50\n",
      "39/39 [==============================] - 0s 1ms/step - loss: 0.0016 - accuracy: 1.0000\n",
      "Epoch 31/50\n",
      "39/39 [==============================] - 0s 986us/step - loss: 0.0015 - accuracy: 1.0000\n",
      "Epoch 32/50\n",
      "39/39 [==============================] - 0s 962us/step - loss: 0.0013 - accuracy: 1.0000\n",
      "Epoch 33/50\n",
      "39/39 [==============================] - 0s 1ms/step - loss: 0.0013 - accuracy: 1.0000\n",
      "Epoch 34/50\n",
      "39/39 [==============================] - 0s 1ms/step - loss: 0.0011 - accuracy: 1.0000\n",
      "Epoch 35/50\n",
      "39/39 [==============================] - 0s 1ms/step - loss: 0.0011 - accuracy: 1.0000\n",
      "Epoch 36/50\n",
      "39/39 [==============================] - 0s 965us/step - loss: 9.9596e-04 - accuracy: 1.0000\n",
      "Epoch 37/50\n",
      "39/39 [==============================] - 0s 2ms/step - loss: 9.1063e-04 - accuracy: 1.0000\n",
      "Epoch 38/50\n",
      "39/39 [==============================] - 0s 1ms/step - loss: 8.5536e-04 - accuracy: 1.0000\n",
      "Epoch 39/50\n",
      "39/39 [==============================] - 0s 1ms/step - loss: 7.9339e-04 - accuracy: 1.0000\n",
      "Epoch 40/50\n",
      "39/39 [==============================] - 0s 963us/step - loss: 7.4347e-04 - accuracy: 1.0000\n",
      "Epoch 41/50\n",
      "39/39 [==============================] - 0s 969us/step - loss: 7.0814e-04 - accuracy: 1.0000\n",
      "Epoch 42/50\n",
      "39/39 [==============================] - 0s 930us/step - loss: 6.5502e-04 - accuracy: 1.0000\n",
      "Epoch 43/50\n",
      "39/39 [==============================] - 0s 989us/step - loss: 6.1837e-04 - accuracy: 1.0000\n",
      "Epoch 44/50\n",
      "39/39 [==============================] - 0s 1ms/step - loss: 5.7400e-04 - accuracy: 1.0000\n",
      "Epoch 45/50\n",
      "39/39 [==============================] - 0s 962us/step - loss: 5.4277e-04 - accuracy: 1.0000\n",
      "Epoch 46/50\n",
      "39/39 [==============================] - 0s 955us/step - loss: 5.0990e-04 - accuracy: 1.0000\n",
      "Epoch 47/50\n",
      "39/39 [==============================] - 0s 974us/step - loss: 4.7855e-04 - accuracy: 1.0000\n",
      "Epoch 48/50\n",
      "39/39 [==============================] - 0s 1ms/step - loss: 4.5587e-04 - accuracy: 1.0000\n",
      "Epoch 49/50\n",
      "39/39 [==============================] - 0s 991us/step - loss: 4.3039e-04 - accuracy: 1.0000\n",
      "Epoch 50/50\n",
      "39/39 [==============================] - 0s 1ms/step - loss: 4.1424e-04 - accuracy: 1.0000\n"
     ]
    }
   ],
   "source": [
    "from keras import models, layers\n",
    "# se construye el modelo denso\n",
    "model = models.Sequential()\n",
    "model.add(layers.Dense(30, activation='relu', input_shape=(X_train.shape[1],)))\n",
    "model.add(layers.Dense(17, activation='relu'))\n",
    "model.add(layers.Dense(2, activation='softmax'))\n",
    "# se le asigna el optimizador y las metricas\n",
    "model.compile(optimizer = 'adam',loss = 'binary_crossentropy',metrics = ['accuracy'])\n",
    "# seentrena la red densa\n",
    "history = model.fit(X_train, y_train, epochs=50, batch_size=128)\n"
   ]
  },
  {
   "cell_type": "code",
   "execution_count": 52,
   "id": "da969ed0",
   "metadata": {},
   "outputs": [
    {
     "name": "stdout",
     "output_type": "stream",
     "text": [
      "102/102 [==============================] - 0s 636us/step - loss: 5.9246e-04 - accuracy: 1.0000\n"
     ]
    }
   ],
   "source": [
    "# evaluamos el conjunto de prueba\n",
    "test_loss, test_accuracy = model.evaluate(X_test, y_test)"
   ]
  },
  {
   "cell_type": "code",
   "execution_count": 54,
   "id": "a9883fbd",
   "metadata": {},
   "outputs": [
    {
     "name": "stdout",
     "output_type": "stream",
     "text": [
      "0.0005924610886722803\n",
      "1.0\n"
     ]
    }
   ],
   "source": [
    "print(test_loss)\n",
    "print(test_accuracy)"
   ]
  },
  {
   "cell_type": "code",
   "execution_count": 55,
   "id": "ed45715d",
   "metadata": {},
   "outputs": [
    {
     "data": {
      "image/png": "[encoded data removed]",
      "text/plain": [
       "<Figure size 432x288 with 1 Axes>"
      ]
     },
     "metadata": {
      "needs_background": "light"
     },
     "output_type": "display_data"
    }
   ],
   "source": [
    "# grafica con la función de costo\n",
    "loss = history.history['loss']\n",
    "#val_loss = model.history['val_loss']\n",
    "epochs = range(1, len(loss) + 1)\n",
    "plt.plot(epochs, loss, 'b', label='Training loss')\n",
    "#plt.plot(epochs, val_loss, 'r', label='Validation loss')\n",
    "plt.title('Training loss')\n",
    "plt.xlabel('Epochs')\n",
    "plt.ylabel('Loss')\n",
    "plt.legend()\n",
    "plt.show()"
   ]
  },
  {
   "cell_type": "code",
   "execution_count": 56,
   "id": "1380f33c",
   "metadata": {},
   "outputs": [
    {
     "data": {
      "image/png": "[encoded data removed]",
      "text/plain": [
       "<Figure size 432x288 with 1 Axes>"
      ]
     },
     "metadata": {
      "needs_background": "light"
     },
     "output_type": "display_data"
    }
   ],
   "source": [
    "plt.clf()\n",
    "acc = history.history['accuracy']\n",
    "#val_acc = train_log.history['val_accuracy']\n",
    "epochs = range(1, len(loss) + 1)\n",
    "plt.plot(epochs, acc, 'b', label='Training acc')\n",
    "#plt.plot(epochs, val_acc, 'r', label='Validation acc')\n",
    "plt.title('Training')\n",
    "plt.xlabel('Epochs')\n",
    "plt.ylabel('Accuracy')\n",
    "plt.legend()\n",
    "plt.show()"
   ]
  },
  {
   "cell_type": "code",
   "execution_count": 57,
   "id": "33892796",
   "metadata": {},
   "outputs": [],
   "source": [
    "predictions = model.predict(X_test)\n",
    "y_pred =np.argmax(predictions,1)"
   ]
  },
  {
   "cell_type": "code",
   "execution_count": 58,
   "id": "7848a35a",
   "metadata": {},
   "outputs": [
    {
     "data": {
      "text/plain": [
       "array([1, 0, 0, ..., 1, 0, 0])"
      ]
     },
     "execution_count": 58,
     "metadata": {},
     "output_type": "execute_result"
    }
   ],
   "source": [
    "y_pred"
   ]
  },
  {
   "cell_type": "code",
   "execution_count": 59,
   "id": "3da25e94",
   "metadata": {},
   "outputs": [
    {
     "data": {
      "text/plain": [
       "array([[0., 1.],\n",
       "       [1., 0.],\n",
       "       [1., 0.],\n",
       "       ...,\n",
       "       [0., 1.],\n",
       "       [1., 0.],\n",
       "       [1., 0.]], dtype=float32)"
      ]
     },
     "execution_count": 59,
     "metadata": {},
     "output_type": "execute_result"
    }
   ],
   "source": [
    "y_test"
   ]
  },
  {
   "cell_type": "code",
   "execution_count": 60,
   "id": "c5d3fc55",
   "metadata": {},
   "outputs": [],
   "source": [
    "# guardamos el modelo de la red neuronal\n",
    "model.save('red_hongos.h5')"
   ]
  },
  {
   "cell_type": "code",
   "execution_count": null,
   "id": "debe40e9",
   "metadata": {},
   "outputs": [],
   "source": []
  }
 ],
 "metadata": {
  "kernelspec": {
   "display_name": "Python 3 (ipykernel)",
   "language": "python",
   "name": "python3"
  },
  "language_info": {
   "codemirror_mode": {
    "name": "ipython",
    "version": 3
   },
   "file_extension": ".py",
   "mimetype": "text/x-python",
   "name": "python",
   "nbconvert_exporter": "python",
   "pygments_lexer": "ipython3",
   "version": "3.8.12"
  }
 },
 "nbformat": 4,
 "nbformat_minor": 5
}
