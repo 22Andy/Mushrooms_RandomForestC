{
 "cells": [
  {
   "cell_type": "code",
   "execution_count": 3,
   "id": "7de9dd13",
   "metadata": {},
   "outputs": [],
   "source": [
    "from tensorflow.keras.models import load_model\n",
    "import pandas as pd\n",
    "from sklearn.preprocessing import LabelEncoder\n",
    "import numpy as np"
   ]
  },
  {
   "cell_type": "markdown",
   "id": "e07add02",
   "metadata": {},
   "source": [
    "# Prediccion con la red neuronal guardada"
   ]
  },
  {
   "cell_type": "code",
   "execution_count": 21,
   "id": "45b27d8b",
   "metadata": {},
   "outputs": [],
   "source": [
    "model = load_model('red_hongos.h5')\n",
    "\n",
    "def Prediccion(X_test):\n",
    "    try:\n",
    "        predictions = model.predict(X_test)\n",
    "        y_pred =np.argmax(predictions,1)\n",
    "    except:\n",
    "        X_test= X_test.reshape(1,X_test.shape[0])\n",
    "        predictions = model.predict(X_test)\n",
    "        y_pred =np.argmax(predictions,1)\n",
    "    return y_pred\n",
    "    \n",
    "    "
   ]
  },
  {
   "cell_type": "code",
   "execution_count": 7,
   "id": "d7a5f7ba",
   "metadata": {},
   "outputs": [],
   "source": [
    "datos = pd.read_csv('mushrooms.csv')\n",
    "datos1 = datos.copy()\n",
    "for col in datos.columns:\n",
    "    datos1[col] = LabelEncoder().fit_transform(datos[col])\n",
    "datos1.head()\n",
    "\n",
    "X = datos1.drop(['class'], axis = 1)\n",
    "y = datos1['class']\n",
    "\n",
    "X = X.drop(['veil-type'], axis=1)\n",
    "\n",
    "\n",
    "from sklearn.preprocessing import StandardScaler\n",
    "scaler = StandardScaler()\n",
    "X=scaler.fit_transform(X)"
   ]
  },
  {
   "cell_type": "code",
   "execution_count": 24,
   "id": "449e3fbf",
   "metadata": {},
   "outputs": [],
   "source": [
    "t= Prediccion(X)"
   ]
  },
  {
   "cell_type": "markdown",
   "id": "64af315b",
   "metadata": {},
   "source": [
    "# Prediccion con el modelo de RandomForest entrenado y guardado"
   ]
  },
  {
   "cell_type": "code",
   "execution_count": 28,
   "id": "503cf9e0",
   "metadata": {},
   "outputs": [],
   "source": [
    "import pickle\n",
    "with open('RandomF_hongos.pickle', 'rb') as f:\n",
    "    # The protocol version used is detected automatically, so we do not\n",
    "    # have to specify it.\n",
    "    model = pickle.load(f)"
   ]
  },
  {
   "cell_type": "code",
   "execution_count": 33,
   "id": "58d5d44b",
   "metadata": {},
   "outputs": [],
   "source": [
    "def Prediccion(X_test):\n",
    "    try:\n",
    "        y_pred = model.predict(X_test)\n",
    "    except:\n",
    "        X_test= X_test.reshape(1,X_test.shape[0])\n",
    "        y_pred = model.predict(X_test)\n",
    "    return y_pred\n",
    " "
   ]
  },
  {
   "cell_type": "code",
   "execution_count": 36,
   "id": "eafd94cc",
   "metadata": {},
   "outputs": [],
   "source": [
    "t= Prediccion(X)"
   ]
  },
  {
   "cell_type": "code",
   "execution_count": null,
   "id": "187ad3b7",
   "metadata": {},
   "outputs": [],
   "source": []
  }
 ],
 "metadata": {
  "kernelspec": {
   "display_name": "Python 3 (ipykernel)",
   "language": "python",
   "name": "python3"
  },
  "language_info": {
   "codemirror_mode": {
    "name": "ipython",
    "version": 3
   },
   "file_extension": ".py",
   "mimetype": "text/x-python",
   "name": "python",
   "nbconvert_exporter": "python",
   "pygments_lexer": "ipython3",
   "version": "3.8.12"
  }
 },
 "nbformat": 4,
 "nbformat_minor": 5
}
